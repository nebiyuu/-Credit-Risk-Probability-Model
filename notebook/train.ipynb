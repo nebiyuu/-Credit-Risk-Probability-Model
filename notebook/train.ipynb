{
 "cells": [
  {
   "cell_type": "code",
   "execution_count": 12,
   "id": "3653666d",
   "metadata": {},
   "outputs": [],
   "source": [
    "import pandas as pd\n",
    "import sys\n",
    "sys.path.append('../src')"
   ]
  },
  {
   "cell_type": "code",
   "execution_count": 13,
   "id": "4efbf19d",
   "metadata": {},
   "outputs": [],
   "source": [
    "from data_processing import load_csv\n",
    "output_df = load_csv('../data/processed/output2.csv')"
   ]
  },
  {
   "cell_type": "code",
   "execution_count": 14,
   "id": "23da4f90",
   "metadata": {},
   "outputs": [
    {
     "data": {
      "text/plain": [
       "Index(['CustomerId', 'total_amount', 'customer_transactions',\n",
       "       'fraud_transactions', 'total_fraud_amount', 'fraud_ratio',\n",
       "       'fraud_amount_ratio', 'fraud_frequency_score', 'high_value_fraud',\n",
       "       'last_transaction_date', 'Recency', 'Frequency', 'Monetary', 'cluster',\n",
       "       'credit_risk'],\n",
       "      dtype='object')"
      ]
     },
     "execution_count": 14,
     "metadata": {},
     "output_type": "execute_result"
    }
   ],
   "source": [
    "output_df.columns"
   ]
  },
  {
   "cell_type": "code",
   "execution_count": 15,
   "id": "6edde470",
   "metadata": {},
   "outputs": [],
   "source": [
    "# drop CustomerId and credit_risk columns\n",
    "X_train = output_df.drop(columns=['CustomerId', 'credit_risk'])"
   ]
  },
  {
   "cell_type": "code",
   "execution_count": 16,
   "id": "9090ea86",
   "metadata": {},
   "outputs": [],
   "source": [
    "from sklearn.model_selection import train_test_split\n",
    "\n",
    "# Drop unneeded columns\n",
    "features = output_df.drop(columns=[\n",
    "    'CustomerId', 'last_transaction_date', 'cluster', 'credit_risk',\n",
    "    'fraud_transactions', 'total_fraud_amount', 'fraud_ratio',\n",
    "    'fraud_amount_ratio', 'fraud_frequency_score', 'high_value_fraud'\n",
    "])\n",
    "X = features\n",
    "y = output_df['credit_risk']\n",
    "\n",
    "X_train, X_test, y_train, y_test = train_test_split(X, y, test_size=0.2, random_state=42)\n"
   ]
  },
  {
   "cell_type": "code",
   "execution_count": 17,
   "id": "a7e67ee6",
   "metadata": {},
   "outputs": [
    {
     "data": {
      "text/plain": [
       "Index(['total_amount', 'customer_transactions', 'Recency', 'Frequency',\n",
       "       'Monetary'],\n",
       "      dtype='object')"
      ]
     },
     "execution_count": 17,
     "metadata": {},
     "output_type": "execute_result"
    }
   ],
   "source": [
    "features.columns"
   ]
  },
  {
   "cell_type": "code",
   "execution_count": 18,
   "id": "a05034cd",
   "metadata": {},
   "outputs": [],
   "source": [
    "X_train = X_train.dropna()\n",
    "y_train = y_train.loc[X_train.index]  # make sure target matches\n",
    "X_test = X_test.dropna()\n",
    "y_test = y_test.loc[X_test.index]\n"
   ]
  },
  {
   "cell_type": "code",
   "execution_count": 19,
   "id": "bbca22b0",
   "metadata": {},
   "outputs": [
    {
     "name": "stdout",
     "output_type": "stream",
     "text": [
      "credit_risk\n",
      "0    2315\n",
      "1    1427\n",
      "Name: count, dtype: int64\n"
     ]
    }
   ],
   "source": [
    "print(y.value_counts())"
   ]
  },
  {
   "cell_type": "code",
   "execution_count": 10,
   "id": "5bc5c594",
   "metadata": {},
   "outputs": [
    {
     "ename": "NameError",
     "evalue": "name 'models' is not defined",
     "output_type": "error",
     "traceback": [
      "\u001b[31m---------------------------------------------------------------------------\u001b[39m",
      "\u001b[31mNameError\u001b[39m                                 Traceback (most recent call last)",
      "\u001b[36mCell\u001b[39m\u001b[36m \u001b[39m\u001b[32mIn[10]\u001b[39m\u001b[32m, line 3\u001b[39m\n\u001b[32m      1\u001b[39m \u001b[38;5;28;01mfrom\u001b[39;00m\u001b[38;5;250m \u001b[39m\u001b[34;01msklearn\u001b[39;00m\u001b[34;01m.\u001b[39;00m\u001b[34;01mmetrics\u001b[39;00m\u001b[38;5;250m \u001b[39m\u001b[38;5;28;01mimport\u001b[39;00m accuracy_score, precision_score, recall_score, f1_score, roc_auc_score\n\u001b[32m----> \u001b[39m\u001b[32m3\u001b[39m model_stat(\u001b[43mmodels\u001b[49m, X_train, y_train, X_test, y_test)\n",
      "\u001b[31mNameError\u001b[39m: name 'models' is not defined"
     ]
    }
   ],
   "source": [
    "from sklearn.metrics import accuracy_score, precision_score, recall_score, f1_score, roc_auc_score\n",
    "\n",
    "model_stat(models, X_train, y_train, X_test, y_test)"
   ]
  },
  {
   "cell_type": "code",
   "execution_count": 20,
   "id": "8bc58e43",
   "metadata": {},
   "outputs": [
    {
     "name": "stdout",
     "output_type": "stream",
     "text": [
      "Model: LogisticRegression\n",
      "Accuracy: 1.0\n",
      "Precision: 1.0\n",
      "Recall: 1.0\n",
      "F1 Score: 1.0\n",
      "ROC-AUC: 1.0\n",
      "Model: RandomForest\n",
      "Accuracy: 0.9986648865153538\n",
      "Precision: 1.0\n",
      "Recall: 0.9966216216216216\n",
      "F1 Score: 0.9983079526226735\n",
      "ROC-AUC: 1.0\n"
     ]
    }
   ],
   "source": [
    "from sklearn.linear_model import LogisticRegression\n",
    "from sklearn.ensemble import RandomForestClassifier\n",
    "from sklearn.metrics import accuracy_score, precision_score, recall_score, f1_score, roc_auc_score\n",
    "\n",
    "models = {\n",
    "    \"LogisticRegression\": LogisticRegression(max_iter=1000),\n",
    "    \"RandomForest\": RandomForestClassifier(random_state=42)\n",
    "}\n",
    "\n",
    "model_stat(models, X_train, y_train, X_test, y_test)\n"
   ]
  },
  {
   "cell_type": "code",
   "execution_count": 10,
   "id": "74009cd0",
   "metadata": {},
   "outputs": [
    {
     "name": "stdout",
     "output_type": "stream",
     "text": [
      "Index(['total_amount', 'customer_transactions', 'fraud_transactions',\n",
      "       'total_fraud_amount', 'fraud_ratio', 'fraud_amount_ratio',\n",
      "       'fraud_frequency_score', 'high_value_fraud', 'Recency', 'Frequency',\n",
      "       'Monetary'],\n",
      "      dtype='object')\n"
     ]
    }
   ],
   "source": [
    "print(X_test.columns)"
   ]
  },
  {
   "cell_type": "code",
   "execution_count": 23,
   "id": "7de3a891",
   "metadata": {},
   "outputs": [
    {
     "name": "stdout",
     "output_type": "stream",
     "text": [
      "credit_risk\n",
      "0    2315\n",
      "1    1427\n",
      "Name: count, dtype: int64\n",
      "Index(['total_amount', 'customer_transactions', 'fraud_transactions',\n",
      "       'total_fraud_amount', 'fraud_ratio', 'fraud_amount_ratio',\n",
      "       'fraud_frequency_score', 'high_value_fraud', 'Recency', 'Frequency',\n",
      "       'Monetary'],\n",
      "      dtype='object')\n"
     ]
    }
   ],
   "source": [
    "print(y.value_counts())\n",
    "print(X.columns)\n"
   ]
  },
  {
   "cell_type": "code",
   "execution_count": null,
   "id": "9d7cd696",
   "metadata": {},
   "outputs": [],
   "source": []
  },
  {
   "cell_type": "code",
   "execution_count": 7,
   "id": "e66b3f05",
   "metadata": {},
   "outputs": [],
   "source": [
    "from sklearn.model_selection import GridSearchCV\n",
    "\n",
    "param_grid = {\n",
    "    'n_estimators': [50, 100],\n",
    "    'max_depth': [None, 5, 10]\n",
    "}\n",
    "\n",
    "grid = GridSearchCV(RandomForestClassifier(random_state=42), param_grid, cv=3)\n",
    "grid.fit(X_train, y_train)\n",
    "\n",
    "best_model = grid.best_estimator_\n"
   ]
  },
  {
   "cell_type": "code",
   "execution_count": 8,
   "id": "29cface2",
   "metadata": {},
   "outputs": [
    {
     "name": "stderr",
     "output_type": "stream",
     "text": [
      "2025/07/02 20:11:32 INFO mlflow.tracking.fluent: Experiment with name 'credit-risk-modeling' does not exist. Creating a new experiment.\n",
      "2025/07/02 20:11:32 WARNING mlflow.models.model: `artifact_path` is deprecated. Please use `name` instead.\n",
      "\u001b[31m2025/07/02 20:11:37 WARNING mlflow.models.model: Model logged without a signature and input example. Please set `input_example` parameter when logging the model to auto infer the model signature.\u001b[0m\n",
      "Successfully registered model 'CreditRiskModel'.\n",
      "2025/07/02 20:11:37 WARNING mlflow.tracking._model_registry.fluent: Run with id 7abfcead2f8f495dbc43d5aec23bffee has no artifacts at artifact path 'model', registering model based on models:/m-b2da65f5d0164add9f4451e0ec371923 instead\n",
      "Created version '1' of model 'CreditRiskModel'.\n"
     ]
    }
   ],
   "source": [
    "import mlflow\n",
    "import mlflow.sklearn\n",
    "\n",
    "mlflow.set_experiment(\"credit-risk-modeling\")\n",
    "\n",
    "with mlflow.start_run():\n",
    "    mlflow.log_params(grid.best_params_)\n",
    "    mlflow.log_metric(\"accuracy\", accuracy_score(y_test, best_model.predict(X_test)))\n",
    "    mlflow.sklearn.log_model(best_model, \"model\")\n",
    "    mlflow.register_model(\"runs:/\" + mlflow.active_run().info.run_id + \"/model\", \"CreditRiskModel\")\n"
   ]
  }
 ],
 "metadata": {
  "kernelspec": {
   "display_name": "venv",
   "language": "python",
   "name": "python3"
  },
  "language_info": {
   "codemirror_mode": {
    "name": "ipython",
    "version": 3
   },
   "file_extension": ".py",
   "mimetype": "text/x-python",
   "name": "python",
   "nbconvert_exporter": "python",
   "pygments_lexer": "ipython3",
   "version": "3.13.3"
  }
 },
 "nbformat": 4,
 "nbformat_minor": 5
}
