{
 "cells": [
  {
   "cell_type": "code",
   "execution_count": 1,
   "id": "9817ac37",
   "metadata": {},
   "outputs": [],
   "source": [
    "import pandas as pd\n",
    "import numpy as np"
   ]
  },
  {
   "cell_type": "code",
   "execution_count": 7,
   "id": "3db9c2df",
   "metadata": {},
   "outputs": [],
   "source": [
    "df = pd.read_csv('../data/processed/cleaned_data.csv')"
   ]
  },
  {
   "cell_type": "code",
   "execution_count": 27,
   "id": "8bc6b1d3",
   "metadata": {},
   "outputs": [
    {
     "data": {
      "text/html": [
       "<div>\n",
       "<style scoped>\n",
       "    .dataframe tbody tr th:only-of-type {\n",
       "        vertical-align: middle;\n",
       "    }\n",
       "\n",
       "    .dataframe tbody tr th {\n",
       "        vertical-align: top;\n",
       "    }\n",
       "\n",
       "    .dataframe thead th {\n",
       "        text-align: right;\n",
       "    }\n",
       "</style>\n",
       "<table border=\"1\" class=\"dataframe\">\n",
       "  <thead>\n",
       "    <tr style=\"text-align: right;\">\n",
       "      <th></th>\n",
       "      <th>TransactionId</th>\n",
       "      <th>BatchId</th>\n",
       "      <th>AccountId</th>\n",
       "      <th>SubscriptionId</th>\n",
       "      <th>CustomerId</th>\n",
       "      <th>CurrencyCode</th>\n",
       "      <th>CountryCode</th>\n",
       "      <th>ProviderId</th>\n",
       "      <th>ProductId</th>\n",
       "      <th>ProductCategory</th>\n",
       "      <th>ChannelId</th>\n",
       "      <th>Amount</th>\n",
       "      <th>Value</th>\n",
       "      <th>TransactionStartTime</th>\n",
       "      <th>PricingStrategy</th>\n",
       "      <th>FraudResult</th>\n",
       "      <th>fraud_severity</th>\n",
       "      <th>amount_bracket</th>\n",
       "    </tr>\n",
       "  </thead>\n",
       "  <tbody>\n",
       "    <tr>\n",
       "      <th>0</th>\n",
       "      <td>TransactionId_76871</td>\n",
       "      <td>BatchId_36123</td>\n",
       "      <td>AccountId_3957</td>\n",
       "      <td>SubscriptionId_887</td>\n",
       "      <td>CustomerId_4406</td>\n",
       "      <td>UGX</td>\n",
       "      <td>256</td>\n",
       "      <td>ProviderId_6</td>\n",
       "      <td>ProductId_10</td>\n",
       "      <td>airtime</td>\n",
       "      <td>ChannelId_3</td>\n",
       "      <td>1000.0</td>\n",
       "      <td>1000</td>\n",
       "      <td>2018-11-15 02:18:49+00:00</td>\n",
       "      <td>2</td>\n",
       "      <td>0</td>\n",
       "      <td>0.0</td>\n",
       "      <td>(0.0, 10000.0]</td>\n",
       "    </tr>\n",
       "    <tr>\n",
       "      <th>1</th>\n",
       "      <td>TransactionId_73770</td>\n",
       "      <td>BatchId_15642</td>\n",
       "      <td>AccountId_4841</td>\n",
       "      <td>SubscriptionId_3829</td>\n",
       "      <td>CustomerId_4406</td>\n",
       "      <td>UGX</td>\n",
       "      <td>256</td>\n",
       "      <td>ProviderId_4</td>\n",
       "      <td>ProductId_6</td>\n",
       "      <td>financial_services</td>\n",
       "      <td>ChannelId_2</td>\n",
       "      <td>20.0</td>\n",
       "      <td>20</td>\n",
       "      <td>2018-11-15 02:19:08+00:00</td>\n",
       "      <td>2</td>\n",
       "      <td>0</td>\n",
       "      <td>0.0</td>\n",
       "      <td>(0.0, 10000.0]</td>\n",
       "    </tr>\n",
       "    <tr>\n",
       "      <th>2</th>\n",
       "      <td>TransactionId_26203</td>\n",
       "      <td>BatchId_53941</td>\n",
       "      <td>AccountId_4229</td>\n",
       "      <td>SubscriptionId_222</td>\n",
       "      <td>CustomerId_4683</td>\n",
       "      <td>UGX</td>\n",
       "      <td>256</td>\n",
       "      <td>ProviderId_6</td>\n",
       "      <td>ProductId_1</td>\n",
       "      <td>airtime</td>\n",
       "      <td>ChannelId_3</td>\n",
       "      <td>500.0</td>\n",
       "      <td>500</td>\n",
       "      <td>2018-11-15 02:44:21+00:00</td>\n",
       "      <td>2</td>\n",
       "      <td>0</td>\n",
       "      <td>0.0</td>\n",
       "      <td>(0.0, 10000.0]</td>\n",
       "    </tr>\n",
       "    <tr>\n",
       "      <th>3</th>\n",
       "      <td>TransactionId_380</td>\n",
       "      <td>BatchId_102363</td>\n",
       "      <td>AccountId_648</td>\n",
       "      <td>SubscriptionId_2185</td>\n",
       "      <td>CustomerId_988</td>\n",
       "      <td>UGX</td>\n",
       "      <td>256</td>\n",
       "      <td>ProviderId_1</td>\n",
       "      <td>ProductId_21</td>\n",
       "      <td>utility_bill</td>\n",
       "      <td>ChannelId_3</td>\n",
       "      <td>20000.0</td>\n",
       "      <td>21800</td>\n",
       "      <td>2018-11-15 03:32:55+00:00</td>\n",
       "      <td>2</td>\n",
       "      <td>0</td>\n",
       "      <td>0.0</td>\n",
       "      <td>(10000.0, 100000.0]</td>\n",
       "    </tr>\n",
       "    <tr>\n",
       "      <th>4</th>\n",
       "      <td>TransactionId_28195</td>\n",
       "      <td>BatchId_38780</td>\n",
       "      <td>AccountId_4841</td>\n",
       "      <td>SubscriptionId_3829</td>\n",
       "      <td>CustomerId_988</td>\n",
       "      <td>UGX</td>\n",
       "      <td>256</td>\n",
       "      <td>ProviderId_4</td>\n",
       "      <td>ProductId_6</td>\n",
       "      <td>financial_services</td>\n",
       "      <td>ChannelId_2</td>\n",
       "      <td>644.0</td>\n",
       "      <td>644</td>\n",
       "      <td>2018-11-15 03:34:21+00:00</td>\n",
       "      <td>2</td>\n",
       "      <td>0</td>\n",
       "      <td>0.0</td>\n",
       "      <td>(0.0, 10000.0]</td>\n",
       "    </tr>\n",
       "  </tbody>\n",
       "</table>\n",
       "</div>"
      ],
      "text/plain": [
       "         TransactionId         BatchId       AccountId       SubscriptionId  \\\n",
       "0  TransactionId_76871   BatchId_36123  AccountId_3957   SubscriptionId_887   \n",
       "1  TransactionId_73770   BatchId_15642  AccountId_4841  SubscriptionId_3829   \n",
       "2  TransactionId_26203   BatchId_53941  AccountId_4229   SubscriptionId_222   \n",
       "3    TransactionId_380  BatchId_102363   AccountId_648  SubscriptionId_2185   \n",
       "4  TransactionId_28195   BatchId_38780  AccountId_4841  SubscriptionId_3829   \n",
       "\n",
       "        CustomerId CurrencyCode  CountryCode    ProviderId     ProductId  \\\n",
       "0  CustomerId_4406          UGX          256  ProviderId_6  ProductId_10   \n",
       "1  CustomerId_4406          UGX          256  ProviderId_4   ProductId_6   \n",
       "2  CustomerId_4683          UGX          256  ProviderId_6   ProductId_1   \n",
       "3   CustomerId_988          UGX          256  ProviderId_1  ProductId_21   \n",
       "4   CustomerId_988          UGX          256  ProviderId_4   ProductId_6   \n",
       "\n",
       "      ProductCategory    ChannelId   Amount  Value       TransactionStartTime  \\\n",
       "0             airtime  ChannelId_3   1000.0   1000  2018-11-15 02:18:49+00:00   \n",
       "1  financial_services  ChannelId_2     20.0     20  2018-11-15 02:19:08+00:00   \n",
       "2             airtime  ChannelId_3    500.0    500  2018-11-15 02:44:21+00:00   \n",
       "3        utility_bill  ChannelId_3  20000.0  21800  2018-11-15 03:32:55+00:00   \n",
       "4  financial_services  ChannelId_2    644.0    644  2018-11-15 03:34:21+00:00   \n",
       "\n",
       "   PricingStrategy  FraudResult  fraud_severity       amount_bracket  \n",
       "0                2            0             0.0       (0.0, 10000.0]  \n",
       "1                2            0             0.0       (0.0, 10000.0]  \n",
       "2                2            0             0.0       (0.0, 10000.0]  \n",
       "3                2            0             0.0  (10000.0, 100000.0]  \n",
       "4                2            0             0.0       (0.0, 10000.0]  "
      ]
     },
     "execution_count": 27,
     "metadata": {},
     "output_type": "execute_result"
    }
   ],
   "source": [
    "df.head()"
   ]
  },
  {
   "cell_type": "code",
   "execution_count": 9,
   "id": "f31bbf9a",
   "metadata": {},
   "outputs": [],
   "source": [
    "# Create fraud severity tiers\n",
    "df['fraud_severity'] = np.where(\n",
    "    df['FraudResult'] == 1,\n",
    "    np.log10(df['Amount']),  # Log-scale to handle extreme values\n",
    "    0\n",
    ")"
   ]
  },
  {
   "cell_type": "markdown",
   "id": "82244b80",
   "metadata": {},
   "source": [
    "# fraud based on amount"
   ]
  },
  {
   "cell_type": "markdown",
   "id": "12e41a52",
   "metadata": {},
   "source": [
    "72 % of frauds are more than $1M\n"
   ]
  },
  {
   "cell_type": "code",
   "execution_count": 10,
   "id": "8d3081d5",
   "metadata": {},
   "outputs": [
    {
     "name": "stdout",
     "output_type": "stream",
     "text": [
      "amount_bracket\n",
      "(0.0, 10000.0]           0.000023\n",
      "(10000.0, 100000.0]      0.001275\n",
      "(100000.0, 1000000.0]    0.199336\n",
      "(1000000.0, inf]         0.728395\n",
      "Name: FraudResult, dtype: float64\n"
     ]
    }
   ],
   "source": [
    "# Check fraud detection rate by amount brackets\n",
    "bins = [0, 10000, 100000, 1000000, float('inf')]\n",
    "df['amount_bracket'] = pd.cut(df['Amount'], bins)\n",
    "fraud_rates = df.groupby('amount_bracket', observed=True)['FraudResult'].mean()\n",
    "print(fraud_rates)"
   ]
  },
  {
   "cell_type": "code",
   "execution_count": 12,
   "id": "2339c963",
   "metadata": {},
   "outputs": [
    {
     "data": {
      "image/png": "[encoded data removed]",
      "text/plain": [
       "<Figure size 640x480 with 1 Axes>"
      ]
     },
     "metadata": {},
     "output_type": "display_data"
    }
   ],
   "source": [
    "# Visualize detection gaps (log scale for readability)\n",
    "import matplotlib.pyplot as plt\n",
    "fraud_rates.plot(kind='bar', logy=True, color='darkred')\n",
    "plt.title('Fraud Detection Rate by Transaction Size')\n",
    "plt.ylabel('Percentage Caught (Log Scale)')\n",
    "plt.show()"
   ]
  },
  {
   "cell_type": "code",
   "execution_count": 9,
   "id": "fc1c42a7",
   "metadata": {},
   "outputs": [],
   "source": [
    "# Create a fraud severity score (log-scale for normalization)\n",
    "df['fraud_severity'] = np.where(\n",
    "    df['FraudResult'] == 1,\n",
    "    np.log10(df['Amount'] + 1),  # +1 avoids log(0)\n",
    "    0  # Non-fraud transactions get 0\n",
    ")"
   ]
  },
  {
   "cell_type": "markdown",
   "id": "eb8f3248",
   "metadata": {},
   "source": [
    "# feature engineering\n",
    "create new file for training the data"
   ]
  },
  {
   "cell_type": "code",
   "execution_count": 15,
   "id": "7496b589",
   "metadata": {},
   "outputs": [],
   "source": [
    "# This will create 'output.csv' if it doesn't exist and write a header row\n",
    "with open('../data/processed/output.csv', 'w') as f:\n",
    "    f.write('CustomerId\\n')"
   ]
  },
  {
   "cell_type": "code",
   "execution_count": 44,
   "id": "b8345db4",
   "metadata": {},
   "outputs": [],
   "source": [
    "#import output.csv\n",
    "output_df = pd.read_csv('../data/processed/output.csv')"
   ]
  },
  {
   "cell_type": "code",
   "execution_count": 45,
   "id": "262fb301",
   "metadata": {},
   "outputs": [],
   "source": [
    "#SUM amounts of a customerid and store in output_df and costumerid\n",
    "output_df['CustomerId'] = df['CustomerId'].unique()\n",
    "output_df['total_amount'] = 0  # Initialize total_amount column\n",
    "# Calculate total amount for each customer and store in output_df\n",
    "output_df['total_amount'] = df.groupby('CustomerId')['Amount'].sum().reset_index(drop=True)"
   ]
  },
  {
   "cell_type": "code",
   "execution_count": 46,
   "id": "48aa4607",
   "metadata": {},
   "outputs": [
    {
     "data": {
      "text/plain": [
       "(3742, 2)"
      ]
     },
     "execution_count": 46,
     "metadata": {},
     "output_type": "execute_result"
    }
   ],
   "source": [
    "output_df['total_amount'].head()\n",
    "output_df.shape"
   ]
  },
  {
   "cell_type": "code",
   "execution_count": 47,
   "id": "63878306",
   "metadata": {},
   "outputs": [
    {
     "name": "stdout",
     "output_type": "stream",
     "text": [
      "<class 'pandas.core.frame.DataFrame'>\n",
      "RangeIndex: 3742 entries, 0 to 3741\n",
      "Data columns (total 2 columns):\n",
      " #   Column        Non-Null Count  Dtype  \n",
      "---  ------        --------------  -----  \n",
      " 0   CustomerId    3742 non-null   object \n",
      " 1   total_amount  3742 non-null   float64\n",
      "dtypes: float64(1), object(1)\n",
      "memory usage: 58.6+ KB\n"
     ]
    }
   ],
   "source": [
    "output_df.info()\n",
    "drop_columns = ['column1', 'column2', 'column3']  # Adjust based on actual columns\n",
    "output_df.drop(columns=drop_columns, inplace=True, errors='ignore')"
   ]
  },
  {
   "cell_type": "code",
   "execution_count": 48,
   "id": "3ab39816",
   "metadata": {},
   "outputs": [
    {
     "name": "stdout",
     "output_type": "stream",
     "text": [
      "<class 'pandas.core.frame.DataFrame'>\n",
      "RangeIndex: 3742 entries, 0 to 3741\n",
      "Data columns (total 2 columns):\n",
      " #   Column        Non-Null Count  Dtype  \n",
      "---  ------        --------------  -----  \n",
      " 0   CustomerId    3742 non-null   object \n",
      " 1   total_amount  3742 non-null   float64\n",
      "dtypes: float64(1), object(1)\n",
      "memory usage: 58.6+ KB\n"
     ]
    }
   ],
   "source": [
    "output_df.info()"
   ]
  },
  {
   "cell_type": "code",
   "execution_count": 49,
   "id": "760238f7",
   "metadata": {},
   "outputs": [],
   "source": [
    "# Count number of transactions per CustomerId in df\n",
    "customer_transactions = df['CustomerId'].value_counts().reset_index()\n",
    "customer_transactions.columns = ['CustomerId', 'customer_transactions']\n",
    "\n",
    "# Merge customer_transactions into output_df based on CustomerId\n",
    "output_df = output_df.merge(customer_transactions, left_on='CustomerId', right_on='CustomerId', how='left')\n",
    "\n"
   ]
  },
  {
   "cell_type": "code",
   "execution_count": 50,
   "id": "1866497a",
   "metadata": {},
   "outputs": [],
   "source": [
    "# number of transactions per customer where fraud was detected\n",
    "fraud_transactions = df[df['FraudResult'] == 1]['CustomerId'].value_counts().reset_index()\n",
    "fraud_transactions.columns = ['CustomerId', 'fraud_transactions']\n",
    "# Merge fraud_transactions into output_df based on CustomerId\n",
    "output_df = output_df.merge(fraud_transactions, left_on='CustomerId', right_on='CustomerId', how='left')\n",
    "# drop the 'CustomerId' column from the left DataFrame\n"
   ]
  },
  {
   "cell_type": "code",
   "execution_count": 51,
   "id": "cd7523be",
   "metadata": {},
   "outputs": [
    {
     "data": {
      "text/html": [
       "<div>\n",
       "<style scoped>\n",
       "    .dataframe tbody tr th:only-of-type {\n",
       "        vertical-align: middle;\n",
       "    }\n",
       "\n",
       "    .dataframe tbody tr th {\n",
       "        vertical-align: top;\n",
       "    }\n",
       "\n",
       "    .dataframe thead th {\n",
       "        text-align: right;\n",
       "    }\n",
       "</style>\n",
       "<table border=\"1\" class=\"dataframe\">\n",
       "  <thead>\n",
       "    <tr style=\"text-align: right;\">\n",
       "      <th></th>\n",
       "      <th>CustomerId</th>\n",
       "      <th>total_amount</th>\n",
       "      <th>customer_transactions</th>\n",
       "      <th>fraud_transactions</th>\n",
       "    </tr>\n",
       "  </thead>\n",
       "  <tbody>\n",
       "    <tr>\n",
       "      <th>0</th>\n",
       "      <td>CustomerId_4406</td>\n",
       "      <td>10000.0</td>\n",
       "      <td>119</td>\n",
       "      <td>NaN</td>\n",
       "    </tr>\n",
       "    <tr>\n",
       "      <th>1</th>\n",
       "      <td>CustomerId_4683</td>\n",
       "      <td>10000.0</td>\n",
       "      <td>2</td>\n",
       "      <td>NaN</td>\n",
       "    </tr>\n",
       "    <tr>\n",
       "      <th>2</th>\n",
       "      <td>CustomerId_988</td>\n",
       "      <td>30400.0</td>\n",
       "      <td>38</td>\n",
       "      <td>NaN</td>\n",
       "    </tr>\n",
       "    <tr>\n",
       "      <th>3</th>\n",
       "      <td>CustomerId_1432</td>\n",
       "      <td>4775.0</td>\n",
       "      <td>1</td>\n",
       "      <td>NaN</td>\n",
       "    </tr>\n",
       "    <tr>\n",
       "      <th>4</th>\n",
       "      <td>CustomerId_2858</td>\n",
       "      <td>32000.0</td>\n",
       "      <td>29</td>\n",
       "      <td>NaN</td>\n",
       "    </tr>\n",
       "  </tbody>\n",
       "</table>\n",
       "</div>"
      ],
      "text/plain": [
       "        CustomerId  total_amount  customer_transactions  fraud_transactions\n",
       "0  CustomerId_4406       10000.0                    119                 NaN\n",
       "1  CustomerId_4683       10000.0                      2                 NaN\n",
       "2   CustomerId_988       30400.0                     38                 NaN\n",
       "3  CustomerId_1432        4775.0                      1                 NaN\n",
       "4  CustomerId_2858       32000.0                     29                 NaN"
      ]
     },
     "execution_count": 51,
     "metadata": {},
     "output_type": "execute_result"
    }
   ],
   "source": [
    "output_df.head()"
   ]
  },
  {
   "cell_type": "code",
   "execution_count": null,
   "id": "b5d7f809",
   "metadata": {},
   "outputs": [],
   "source": [
    "# print customer where fraud was detected in output_df\n",
    "fraud_customers = output_df[output_df['fraud_transactions'] > 0]\n",
    "print(fraud_customers[['CustomerId', 'fraud_transactions']])\n",
    "fraud_customers.shape\n",
    "#sum of fraud transactions\n",
    "fraud_sum = fraud_customers['fraud_transactions'].sum()\n",
    "print(f\"Total fraud transactions: {fraud_sum}\")\n",
    "\n",
    "# Sum of total amount for fraud customers\n",
    "total_fraud_amount = fraud_customers['total_amount'].sum()\n",
    "print(f\"Total amount for fraud customers: {total_fraud_amount}\")\n",
    "\n"
   ]
  },
  {
   "cell_type": "code",
   "execution_count": 67,
   "id": "e5d26bcd",
   "metadata": {},
   "outputs": [],
   "source": [
    "\n",
    "#sum of amount where fraud was detected for each customer\n",
    "fraud_amount_sum = fraud_customers.groupby('CustomerId')['total_amount'].sum().reset_index()\n",
    "fraud_amount_sum.columns = ['CustomerId', 'total_fraud_amount']\n",
    "# Merge fraud_amount_sum into output_df based on CustomerId\n",
    "output_df = output_df.merge(fraud_amount_sum, left_on='CustomerId', right_on='CustomerId', how='left')\n"
   ]
  },
  {
   "cell_type": "code",
   "execution_count": 70,
   "id": "e02f2d79",
   "metadata": {},
   "outputs": [],
   "source": [
    "# Fraud ratio: % of transactions flagged as fraud\n",
    "output_df['fraud_ratio'] = output_df['fraud_transactions'] / output_df['customer_transactions']\n",
    "\n",
    "# Fraud amount ratio: % of total money involved in fraud\n",
    "# (Requires total_fraud_amount column)\n",
    "output_df['fraud_amount_ratio'] = output_df['total_fraud_amount'] / output_df['total_amount']"
   ]
  },
  {
   "cell_type": "code",
   "execution_count": 72,
   "id": "ab10e924",
   "metadata": {},
   "outputs": [
    {
     "name": "stdout",
     "output_type": "stream",
     "text": [
      "           CustomerId  total_amount  customer_transactions  \\\n",
      "43    CustomerId_4275       15675.0                      7   \n",
      "47    CustomerId_7414      241710.0                      2   \n",
      "375   CustomerId_4134      233990.0                      1   \n",
      "508   CustomerId_3075       14050.0                     46   \n",
      "513   CustomerId_4453      501000.0                     54   \n",
      "574   CustomerId_4391       42000.0                     19   \n",
      "1077  CustomerId_5105        1000.0                      8   \n",
      "1086  CustomerId_4878        8200.0                    205   \n",
      "1131   CustomerId_856      151200.0                      5   \n",
      "1294  CustomerId_1122      200732.5                      1   \n",
      "1736  CustomerId_2143        5000.0                      1   \n",
      "1841  CustomerId_1653        4590.0                      6   \n",
      "1922  CustomerId_5123        9570.0                      1   \n",
      "1963  CustomerId_4128       21200.0                      1   \n",
      "1976  CustomerId_3768      120400.0                     18   \n",
      "2195  CustomerId_2292        1500.0                      3   \n",
      "2223  CustomerId_4075      116350.0                      3   \n",
      "2255  CustomerId_2703      292114.0                      1   \n",
      "2448  CustomerId_4925        6000.0                      5   \n",
      "2458  CustomerId_3956       15175.0                      1   \n",
      "2523  CustomerId_1302        1510.0                     18   \n",
      "2527  CustomerId_1984       14000.0                      1   \n",
      "2534  CustomerId_7339       22318.0                      4   \n",
      "2544  CustomerId_7401       32000.0                      2   \n",
      "2633  CustomerId_2656        6500.0                      5   \n",
      "2734  CustomerId_7429        5000.0                      2   \n",
      "2921  CustomerId_1567        2000.0                      3   \n",
      "2936  CustomerId_1698      222056.0                      2   \n",
      "2951  CustomerId_1850      134745.0                      1   \n",
      "3013  CustomerId_1988        1000.0                     24   \n",
      "3248   CustomerId_909       42000.0                    115   \n",
      "3264  CustomerId_7416      107000.0                      1   \n",
      "3489  CustomerId_1535        7500.0                      7   \n",
      "3726  CustomerId_2303        2000.0                     11   \n",
      "\n",
      "      fraud_transactions  fraud_ratio  total_fraud_amount  fraud_amount_ratio  \n",
      "43                   3.0     0.428571             15675.0                 1.0  \n",
      "47                   2.0     1.000000            241710.0                 1.0  \n",
      "375                  1.0     1.000000            233990.0                 1.0  \n",
      "508                  7.0     0.152174             14050.0                 1.0  \n",
      "513                 12.0     0.222222            501000.0                 1.0  \n",
      "574                  2.0     0.105263             42000.0                 1.0  \n",
      "1077                 1.0     0.125000              1000.0                 1.0  \n",
      "1086                22.0     0.107317              8200.0                 1.0  \n",
      "1131                 4.0     0.800000            151200.0                 1.0  \n",
      "1294                 1.0     1.000000            200732.5                 1.0  \n",
      "1736                 1.0     1.000000              5000.0                 1.0  \n",
      "1841                 1.0     0.166667              4590.0                 1.0  \n",
      "1922                 1.0     1.000000              9570.0                 1.0  \n",
      "1963                 1.0     1.000000             21200.0                 1.0  \n",
      "1976                 6.0     0.333333            120400.0                 1.0  \n",
      "2195                 1.0     0.333333              1500.0                 1.0  \n",
      "2223                 1.0     0.333333            116350.0                 1.0  \n",
      "2255                 1.0     1.000000            292114.0                 1.0  \n",
      "2448                 2.0     0.400000              6000.0                 1.0  \n",
      "2458                 1.0     1.000000             15175.0                 1.0  \n",
      "2523                 3.0     0.166667              1510.0                 1.0  \n",
      "2527                 1.0     1.000000             14000.0                 1.0  \n",
      "2534                 2.0     0.500000             22318.0                 1.0  \n",
      "2544                 1.0     0.500000             32000.0                 1.0  \n",
      "2633                 1.0     0.200000              6500.0                 1.0  \n",
      "2734                 1.0     0.500000              5000.0                 1.0  \n",
      "2921                 2.0     0.666667              2000.0                 1.0  \n",
      "2936                 1.0     0.500000            222056.0                 1.0  \n",
      "2951                 1.0     1.000000            134745.0                 1.0  \n",
      "3013                14.0     0.583333              1000.0                 1.0  \n",
      "3248                31.0     0.269565             42000.0                 1.0  \n",
      "3264                 1.0     1.000000            107000.0                 1.0  \n",
      "3489                 6.0     0.857143              7500.0                 1.0  \n",
      "3726                 8.0     0.727273              2000.0                 1.0  \n"
     ]
    }
   ],
   "source": [
    "# priny the high fraud ratio customers\n",
    "print(output_df[output_df['fraud_ratio'] > 0.1])"
   ]
  },
  {
   "cell_type": "code",
   "execution_count": 78,
   "id": "415757ee",
   "metadata": {},
   "outputs": [],
   "source": [
    "# Fraud-frequency interaction\n",
    "output_df['fraud_frequency_score'] = output_df['fraud_ratio'] * np.log1p(output_df['customer_transactions'])\n",
    "\n",
    "# High-value fraud indicator\n",
    "output_df['high_value_fraud'] = (output_df['fraud_amount_ratio'] > 0.5).astype(int)"
   ]
  },
  {
   "cell_type": "code",
   "execution_count": 79,
   "metadata": {},
   "outputs": [
    {
     "data": {
      "text/html": [
       "<div>\n",
       "<style scoped>\n",
       "    .dataframe tbody tr th:only-of-type {\n",
       "        vertical-align: middle;\n",
       "    }\n",
       "\n",
       "    .dataframe tbody tr th {\n",
       "        vertical-align: top;\n",
       "    }\n",
       "\n",
       "    .dataframe thead th {\n",
       "        text-align: right;\n",
       "    }\n",
       "</style>\n",
       "<table border=\"1\" class=\"dataframe\">\n",
       "  <thead>\n",
       "    <tr style=\"text-align: right;\">\n",
       "      <th></th>\n",
       "      <th>CustomerId</th>\n",
       "      <th>total_amount</th>\n",
       "      <th>customer_transactions</th>\n",
       "      <th>fraud_transactions</th>\n",
       "      <th>fraud_ratio</th>\n",
       "      <th>total_fraud_amount</th>\n",
       "      <th>fraud_amount_ratio</th>\n",
       "      <th>fraud_frequency_score</th>\n",
       "      <th>high_value_fraud</th>\n",
       "    </tr>\n",
       "  </thead>\n",
       "  <tbody>\n",
       "    <tr>\n",
       "      <th>0</th>\n",
       "      <td>CustomerId_4406</td>\n",
       "      <td>10000.0</td>\n",
       "      <td>119</td>\n",
       "      <td>NaN</td>\n",
       "      <td>NaN</td>\n",
       "      <td>NaN</td>\n",
       "      <td>NaN</td>\n",
       "      <td>NaN</td>\n",
       "      <td>0</td>\n",
       "    </tr>\n",
       "    <tr>\n",
       "      <th>1</th>\n",
       "      <td>CustomerId_4683</td>\n",
       "      <td>10000.0</td>\n",
       "      <td>2</td>\n",
       "      <td>NaN</td>\n",
       "      <td>NaN</td>\n",
       "      <td>NaN</td>\n",
       "      <td>NaN</td>\n",
       "      <td>NaN</td>\n",
       "      <td>0</td>\n",
       "    </tr>\n",
       "    <tr>\n",
       "      <th>2</th>\n",
       "      <td>CustomerId_988</td>\n",
       "      <td>30400.0</td>\n",
       "      <td>38</td>\n",
       "      <td>NaN</td>\n",
       "      <td>NaN</td>\n",
       "      <td>NaN</td>\n",
       "      <td>NaN</td>\n",
       "      <td>NaN</td>\n",
       "      <td>0</td>\n",
       "    </tr>\n",
       "    <tr>\n",
       "      <th>3</th>\n",
       "      <td>CustomerId_1432</td>\n",
       "      <td>4775.0</td>\n",
       "      <td>1</td>\n",
       "      <td>NaN</td>\n",
       "      <td>NaN</td>\n",
       "      <td>NaN</td>\n",
       "      <td>NaN</td>\n",
       "      <td>NaN</td>\n",
       "      <td>0</td>\n",
       "    </tr>\n",
       "    <tr>\n",
       "      <th>4</th>\n",
       "      <td>CustomerId_2858</td>\n",
       "      <td>32000.0</td>\n",
       "      <td>29</td>\n",
       "      <td>NaN</td>\n",
       "      <td>NaN</td>\n",
       "      <td>NaN</td>\n",
       "      <td>NaN</td>\n",
       "      <td>NaN</td>\n",
       "      <td>0</td>\n",
       "    </tr>\n",
       "  </tbody>\n",
       "</table>\n",
       "</div>"
      ],
      "text/plain": [
       "        CustomerId  total_amount  customer_transactions  fraud_transactions  \\\n",
       "0  CustomerId_4406       10000.0                    119                 NaN   \n",
       "1  CustomerId_4683       10000.0                      2                 NaN   \n",
       "2   CustomerId_988       30400.0                     38                 NaN   \n",
       "3  CustomerId_1432        4775.0                      1                 NaN   \n",
       "4  CustomerId_2858       32000.0                     29                 NaN   \n",
       "\n",
       "   fraud_ratio  total_fraud_amount  fraud_amount_ratio  fraud_frequency_score  \\\n",
       "0          NaN                 NaN                 NaN                    NaN   \n",
       "1          NaN                 NaN                 NaN                    NaN   \n",
       "2          NaN                 NaN                 NaN                    NaN   \n",
       "3          NaN                 NaN                 NaN                    NaN   \n",
       "4          NaN                 NaN                 NaN                    NaN   \n",
       "\n",
       "   high_value_fraud  \n",
       "0                 0  \n",
       "1                 0  \n",
       "2                 0  \n",
       "3                 0  \n",
       "4                 0  "
      ]
     },
     "execution_count": 79,
     "metadata": {},
     "output_type": "execute_result"
    }
   ],
   "source": [
    "output_df.head()\n"
   ]
  },
  {
   "cell_type": "code",
   "execution_count": 81,
   "id": "ffe80ae5",
   "metadata": {},
   "outputs": [
    {
     "name": "stdout",
     "output_type": "stream",
     "text": [
      "           CustomerId  total_amount  customer_transactions  \\\n",
      "3478  CustomerId_4338   104900000.0                     12   \n",
      "3678  CustomerId_1961    83480760.0                      1   \n",
      "400   CustomerId_2463    60212748.0                      7   \n",
      "2952  CustomerId_5116    50912840.0                     17   \n",
      "3180  CustomerId_4056    29763180.0                      9   \n",
      "\n",
      "      fraud_transactions  fraud_ratio  total_fraud_amount  fraud_amount_ratio  \\\n",
      "3478                 NaN          NaN                 NaN                 NaN   \n",
      "3678                 NaN          NaN                 NaN                 NaN   \n",
      "400                  NaN          NaN                 NaN                 NaN   \n",
      "2952                 NaN          NaN                 NaN                 NaN   \n",
      "3180                 NaN          NaN                 NaN                 NaN   \n",
      "\n",
      "      fraud_frequency_score  high_value_fraud  \n",
      "3478                    NaN                 0  \n",
      "3678                    NaN                 0  \n",
      "400                     NaN                 0  \n",
      "2952                    NaN                 0  \n",
      "3180                    NaN                 0  \n"
     ]
    }
   ],
   "source": [
    "#sort in total_fraud_amount highest and print\n",
    "print(output_df.sort_values(by='total_amount', ascending=False).head())"
   ]
  }
 ],
 "metadata": {
  "kernelspec": {
   "display_name": "venv",
   "language": "python",
   "name": "python3"
  },
  "language_info": {
   "codemirror_mode": {
    "name": "ipython",
    "version": 3
   },
   "file_extension": ".py",
   "mimetype": "text/x-python",
   "name": "python",
   "nbconvert_exporter": "python",
   "pygments_lexer": "ipython3",
   "version": "3.13.3"
  }
 },
 "nbformat": 4,
 "nbformat_minor": 5
}
